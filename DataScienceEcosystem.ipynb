{
 "cells": [
  {
   "cell_type": "markdown",
   "id": "0000f87a-f2aa-4a0e-93e0-feead974a247",
   "metadata": {},
   "source": [
    "<h1>Data Science Tools and Ecosystem</h1>\n"
   ]
  },
  {
   "cell_type": "markdown",
   "id": "9035c189-4f98-4c87-9e80-a525fc581f1f",
   "metadata": {},
   "source": [
    "In this notebook, Data Science Tools and Ecosystem are summarized."
   ]
  },
  {
   "cell_type": "markdown",
   "id": "8909623d-72fa-44cd-a27d-3ccfbd4af16a",
   "metadata": {
    "tags": []
   },
   "source": [
    "Some of the popular languages that Data Scientists use are:\n",
    "- Python\n",
    "- R\n",
    "- Java"
   ]
  },
  {
   "cell_type": "markdown",
   "id": "661e0120-e224-48a5-ade9-05196e823706",
   "metadata": {
    "tags": []
   },
   "source": [
    "Some of the commonly used libraries used by Data Scientists include:\n",
    "- Pandas\n",
    "- ggplot\n",
    "- Plotly"
   ]
  },
  {
   "cell_type": "markdown",
   "id": "04719c36-a774-4c95-8de6-7d2e86ca7984",
   "metadata": {},
   "source": [
    "| Data Science Tools |\n",
    "| -- |\n",
    "| VS Code |\n",
    "| RStudio |\n",
    "| Anaconda |"
   ]
  },
  {
   "cell_type": "markdown",
   "id": "f0e78435-9592-4dc8-b827-89f35f8eb8e4",
   "metadata": {
    "tags": []
   },
   "source": [
    "### Below are a few examples of evaluating arithmetic expressions in Python"
   ]
  },
  {
   "cell_type": "code",
   "execution_count": 5,
   "id": "e181a14b-9e62-4952-b681-3cc5855a5586",
   "metadata": {
    "tags": []
   },
   "outputs": [
    {
     "data": {
      "text/plain": [
       "17"
      ]
     },
     "execution_count": 5,
     "metadata": {},
     "output_type": "execute_result"
    }
   ],
   "source": [
    "# his a simple arithmetic expression to mutiply then add integers\n",
    "(3*4)+5"
   ]
  },
  {
   "cell_type": "code",
   "execution_count": 6,
   "id": "584bc4fc-5f21-4011-b2de-bfc8809cda52",
   "metadata": {
    "tags": []
   },
   "outputs": [
    {
     "data": {
      "text/plain": [
       "3.3333333333333335"
      ]
     },
     "execution_count": 6,
     "metadata": {},
     "output_type": "execute_result"
    }
   ],
   "source": [
    "# This will convert 200 minutes to hours by diving by 60\n",
    "200/60"
   ]
  },
  {
   "cell_type": "markdown",
   "id": "5aac6ede-c059-4ab9-b168-bc23ba009387",
   "metadata": {},
   "source": [
    "Objectives:\n",
    "- Understand how github works\n",
    "- Use jupyter notebook to create data analysis\n",
    "- Use R and Rstudio"
   ]
  },
  {
   "cell_type": "markdown",
   "id": "9a4bf1dd-c50d-43ed-9f2e-4d0a13b443ea",
   "metadata": {
    "tags": []
   },
   "source": [
    "## Author\n",
    "Sergio Guilherme Neto"
   ]
  }
 ],
 "metadata": {
  "kernelspec": {
   "display_name": "Python",
   "language": "python",
   "name": "conda-env-python-py"
  },
  "language_info": {
   "codemirror_mode": {
    "name": "ipython",
    "version": 3
   },
   "file_extension": ".py",
   "mimetype": "text/x-python",
   "name": "python",
   "nbconvert_exporter": "python",
   "pygments_lexer": "ipython3",
   "version": "3.7.12"
  }
 },
 "nbformat": 4,
 "nbformat_minor": 5
}
